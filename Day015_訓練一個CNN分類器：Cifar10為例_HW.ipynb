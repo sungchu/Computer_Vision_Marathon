{
 "cells": [
  {
   "cell_type": "markdown",
   "metadata": {},
   "source": [
    "## 『本次練習內容』\n",
    "#### 運用這幾天所學觀念搭建一個CNN分類器"
   ]
  },
  {
   "cell_type": "markdown",
   "metadata": {},
   "source": [
    "## 『本次練習目的』\n",
    "  #### 熟悉CNN分類器搭建步驟與原理\n",
    "  #### 學員們可以嘗試不同搭法，如使用不同的Maxpooling層，用GlobalAveragePooling取代Flatten等等"
   ]
  },
  {
   "cell_type": "code",
   "execution_count": 1,
   "metadata": {},
   "outputs": [],
   "source": [
    "from keras.models import Sequential\n",
    "from keras.layers import Convolution2D\n",
    "from keras.layers import MaxPooling2D\n",
    "from keras.layers import Flatten\n",
    "from keras.layers import Dense\n",
    "from keras.layers import Dropout\n",
    "from keras.layers import BatchNormalization\n",
    "from keras.datasets import cifar10\n",
    "import numpy as np\n",
    "import tensorflow as tf\n",
    "from sklearn.preprocessing import OneHotEncoder\n"
   ]
  },
  {
   "cell_type": "code",
   "execution_count": 2,
   "metadata": {},
   "outputs": [
    {
     "name": "stdout",
     "output_type": "stream",
     "text": [
      "(50000, 32, 32, 3)\n"
     ]
    }
   ],
   "source": [
    "(x_train, y_train), (x_test, y_test) = cifar10.load_data()\n",
    "\n",
    "print(x_train.shape) #(50000, 32, 32, 3)\n",
    "\n",
    "## Normalize Data\n",
    "def normalize(X_train,X_test):\n",
    "        mean = np.mean(X_train,axis=(0,1,2,3))\n",
    "        std = np.std(X_train, axis=(0, 1, 2, 3))\n",
    "        X_train = (X_train-mean)/(std+1e-7)\n",
    "        X_test = (X_test-mean)/(std+1e-7) \n",
    "        return X_train, X_test,mean,std\n",
    "    \n",
    "    \n",
    "## Normalize Training and Testset    \n",
    "x_train, x_test,mean_train,std_train = normalize(x_train, x_test)"
   ]
  },
  {
   "cell_type": "code",
   "execution_count": 3,
   "metadata": {},
   "outputs": [],
   "source": [
    "## OneHot Label 由(None, 1)-(None, 10)\n",
    "## ex. label=2,變成[0,0,1,0,0,0,0,0,0,0]\n",
    "one_hot=OneHotEncoder()\n",
    "y_train=one_hot.fit_transform(y_train).toarray()\n",
    "y_test=one_hot.transform(y_test).toarray()"
   ]
  },
  {
   "cell_type": "code",
   "execution_count": 5,
   "metadata": {},
   "outputs": [
    {
     "name": "stdout",
     "output_type": "stream",
     "text": [
      "Model: \"sequential_1\"\n",
      "_________________________________________________________________\n",
      "Layer (type)                 Output Shape              Param #   \n",
      "=================================================================\n",
      "conv2d_2 (Conv2D)            (None, 30, 30, 32)        896       \n",
      "_________________________________________________________________\n",
      "batch_normalization_2 (Batch (None, 30, 30, 32)        128       \n",
      "_________________________________________________________________\n",
      "max_pooling2d_1 (MaxPooling2 (None, 15, 15, 32)        0         \n",
      "_________________________________________________________________\n",
      "conv2d_3 (Conv2D)            (None, 13, 13, 64)        18496     \n",
      "_________________________________________________________________\n",
      "batch_normalization_3 (Batch (None, 13, 13, 64)        256       \n",
      "_________________________________________________________________\n",
      "flatten_1 (Flatten)          (None, 10816)             0         \n",
      "_________________________________________________________________\n",
      "dense_2 (Dense)              (None, 128)               1384576   \n",
      "_________________________________________________________________\n",
      "dense_3 (Dense)              (None, 10)                1290      \n",
      "=================================================================\n",
      "Total params: 1,405,642\n",
      "Trainable params: 1,405,450\n",
      "Non-trainable params: 192\n",
      "_________________________________________________________________\n",
      "Epoch 1/10\n",
      "391/391 [==============================] - 59s 151ms/step - loss: 3.1932 - accuracy: 0.4426 - val_loss: 1.4451 - val_accuracy: 0.4992\n",
      "Epoch 2/10\n",
      "391/391 [==============================] - 60s 154ms/step - loss: 0.8359 - accuracy: 0.7141 - val_loss: 1.0406 - val_accuracy: 0.6422\n",
      "Epoch 3/10\n",
      "391/391 [==============================] - 59s 150ms/step - loss: 0.6923 - accuracy: 0.7590 - val_loss: 1.0492 - val_accuracy: 0.6454\n",
      "Epoch 4/10\n",
      "391/391 [==============================] - 60s 153ms/step - loss: 0.5892 - accuracy: 0.7961 - val_loss: 1.0887 - val_accuracy: 0.6505\n",
      "Epoch 5/10\n",
      "391/391 [==============================] - 61s 156ms/step - loss: 0.5053 - accuracy: 0.8267 - val_loss: 1.1572 - val_accuracy: 0.6466\n",
      "Epoch 6/10\n",
      "391/391 [==============================] - 63s 160ms/step - loss: 0.4414 - accuracy: 0.8458 - val_loss: 1.1975 - val_accuracy: 0.6528\n",
      "Epoch 7/10\n",
      "391/391 [==============================] - 62s 158ms/step - loss: 0.3860 - accuracy: 0.8668 - val_loss: 1.2670 - val_accuracy: 0.6618\n",
      "Epoch 8/10\n",
      "391/391 [==============================] - 62s 160ms/step - loss: 0.3327 - accuracy: 0.8829 - val_loss: 1.4324 - val_accuracy: 0.6411\n",
      "Epoch 9/10\n",
      "391/391 [==============================] - 62s 159ms/step - loss: 0.3087 - accuracy: 0.8918 - val_loss: 1.4340 - val_accuracy: 0.6521\n",
      "Epoch 10/10\n",
      "391/391 [==============================] - 67s 171ms/step - loss: 0.2588 - accuracy: 0.9086 - val_loss: 1.5651 - val_accuracy: 0.6390\n"
     ]
    },
    {
     "data": {
      "text/plain": [
       "<tensorflow.python.keras.callbacks.History at 0x173d096c4c0>"
      ]
     },
     "execution_count": 5,
     "metadata": {},
     "output_type": "execute_result"
    }
   ],
   "source": [
    "classifier=Sequential()\n",
    "\n",
    "#卷積組合\n",
    "classifier.add(Convolution2D(32, (3,3), activation='relu', input_shape=(32,32,3)))#32,3,3,input_shape=(32,32,3),activation='relu''\n",
    "classifier.add(BatchNormalization())\n",
    "\n",
    "'''自己決定MaxPooling2D放在哪裡'''\n",
    "classifier.add(MaxPooling2D(pool_size=(2,2)))\n",
    "\n",
    "#卷積組合\n",
    "classifier.add(Convolution2D(64, (3,3), activation='relu'))\n",
    "classifier.add(BatchNormalization())\n",
    "\n",
    "#flatten\n",
    "classifier.add(Flatten())\n",
    "\n",
    "#FC\n",
    "classifier.add(Dense(128)) #output_dim=100,activation=relu\n",
    "\n",
    "#輸出\n",
    "classifier.add(Dense(10, activation='softmax'))\n",
    "classifier.summary()\n",
    "\n",
    "#超過兩個就要選categorical_crossentrophy\n",
    "classifier.compile(optimizer = 'adam', loss = 'categorical_crossentropy', metrics = ['accuracy'])\n",
    "classifier.fit(x_train,y_train,batch_size=128,epochs=10, validation_data=(x_test, y_test))"
   ]
  },
  {
   "cell_type": "markdown",
   "metadata": {},
   "source": [
    "## 預測新圖片，輸入影像前處理要與訓練時相同\n",
    "#### ((X-mean)/(std+1e-7) ):這裡的mean跟std是訓練集的\n",
    "## 維度如下方示範"
   ]
  },
  {
   "cell_type": "code",
   "execution_count": 6,
   "metadata": {},
   "outputs": [
    {
     "data": {
      "text/plain": [
       "array([[3.1964732e-03, 9.6735971e-07, 6.8506650e-03, 3.1750575e-01,\n",
       "        6.2130734e-02, 9.0394862e-02, 2.0129808e-06, 1.1023843e-03,\n",
       "        5.1881611e-01, 5.2138529e-09]], dtype=float32)"
      ]
     },
     "execution_count": 6,
     "metadata": {},
     "output_type": "execute_result"
    }
   ],
   "source": [
    "input_example=(np.zeros(shape=(1,32,32,3))-mean_train)/(std_train+1e-7) \n",
    "classifier.predict(input_example)"
   ]
  },
  {
   "cell_type": "code",
   "execution_count": 7,
   "metadata": {},
   "outputs": [
    {
     "data": {
      "text/plain": [
       "array([[3.3796888e-03, 1.6590083e-06, 5.9577767e-03, ..., 1.0560330e-03,\n",
       "        5.3660274e-01, 1.0279092e-08],\n",
       "       [3.1147848e-03, 1.0726378e-06, 6.5056924e-03, ..., 9.8511134e-04,\n",
       "        5.2155745e-01, 6.2221353e-09],\n",
       "       [3.1438705e-03, 1.0539562e-06, 6.5074214e-03, ..., 9.7545987e-04,\n",
       "        5.4881138e-01, 6.6219479e-09],\n",
       "       ...,\n",
       "       [3.2361750e-03, 1.2936861e-06, 5.8896891e-03, ..., 1.2528724e-03,\n",
       "        5.1784158e-01, 7.5246964e-09],\n",
       "       [2.8532126e-03, 1.3028185e-06, 7.3596761e-03, ..., 1.2025357e-03,\n",
       "        4.5587754e-01, 7.2918369e-09],\n",
       "       [3.4317826e-03, 1.1698146e-06, 6.6132369e-03, ..., 1.0963291e-03,\n",
       "        5.0615925e-01, 7.7988602e-09]], dtype=float32)"
      ]
     },
     "execution_count": 7,
     "metadata": {},
     "output_type": "execute_result"
    }
   ],
   "source": [
    "input_example=(x_test-mean_train)/(std_train+1e-7) \n",
    "classifier.predict(input_example)"
   ]
  },
  {
   "cell_type": "code",
   "execution_count": null,
   "metadata": {},
   "outputs": [],
   "source": []
  }
 ],
 "metadata": {
  "kernelspec": {
   "display_name": "Python 3",
   "language": "python",
   "name": "python3"
  },
  "language_info": {
   "codemirror_mode": {
    "name": "ipython",
    "version": 3
   },
   "file_extension": ".py",
   "mimetype": "text/x-python",
   "name": "python",
   "nbconvert_exporter": "python",
   "pygments_lexer": "ipython3",
   "version": "3.8.10"
  }
 },
 "nbformat": 4,
 "nbformat_minor": 2
}
